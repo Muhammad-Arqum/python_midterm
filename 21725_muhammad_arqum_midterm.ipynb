{
 "cells": [
  {
   "cell_type": "code",
   "execution_count": 1,
   "id": "7d479103-a0c7-4fc2-8eba-11d45fd6f3b5",
   "metadata": {},
   "outputs": [
    {
     "name": "stdin",
     "output_type": "stream",
     "text": [
      "enter the first number for edition 2\n",
      "enter the second number for edition 2\n"
     ]
    },
    {
     "name": "stdout",
     "output_type": "stream",
     "text": [
      "sum 4.0\n"
     ]
    }
   ],
   "source": [
    "num1 = float(input('enter the first number for edition'))\n",
    "num2 = float(input('enter the second number for edition'))\n",
    "sum = float(num1+num2)\n",
    "print('sum',sum)"
   ]
  },
  {
   "cell_type": "code",
   "execution_count": 2,
   "id": "d18579ec-5d88-46df-8816-9d0d83348cb8",
   "metadata": {},
   "outputs": [
    {
     "name": "stdin",
     "output_type": "stream",
     "text": [
      "enter the dividend for divition 25\n",
      "enter the divisor for divition 5\n"
     ]
    },
    {
     "name": "stdout",
     "output_type": "stream",
     "text": [
      "division 5.0\n"
     ]
    }
   ],
   "source": [
    "dividend = float(input('enter the dividend for divition'))\n",
    "divisor = float(input('enter the divisor for divition'))\n",
    "division = float(dividend/divisor)\n",
    "print('division',division)"
   ]
  },
  {
   "cell_type": "code",
   "execution_count": 3,
   "id": "4da2976b-91f1-4f10-b3c5-222bcc2a7cc2",
   "metadata": {},
   "outputs": [
    {
     "name": "stdin",
     "output_type": "stream",
     "text": [
      "enter the length of a triangle 2\n",
      "enter the height of a triangle 2\n"
     ]
    },
    {
     "name": "stdout",
     "output_type": "stream",
     "text": [
      "the area of triangle is 2.0\n"
     ]
    }
   ],
   "source": [
    "length = float(input('enter the length of a triangle'))\n",
    "height = float(input('enter the height of a triangle'))\n",
    "area = float(length*height/2)\n",
    "print('the area of triangle is',area)"
   ]
  },
  {
   "cell_type": "code",
   "execution_count": 15,
   "id": "eec69c0f-0dfe-449f-b8ff-9acdd810498e",
   "metadata": {},
   "outputs": [
    {
     "name": "stdout",
     "output_type": "stream",
     "text": [
      "37 degree farenhiete is equal to 98.6 degree farenheite 98.60000000000001\n"
     ]
    }
   ],
   "source": [
    "celsius = float(37)\n",
    "fehranhite  = float((celsius*(9/5))+32)\n",
    "print('37 degree fehranhite is equal to 98.6 degree farenheite',fehranhite)"
   ]
  },
  {
   "cell_type": "code",
   "execution_count": 14,
   "id": "38219c3f-8469-49b7-ba2c-138cd20b2197",
   "metadata": {},
   "outputs": [
    {
     "name": "stdout",
     "output_type": "stream",
     "text": [
      "the data type of 19 is: <class 'int'>\n",
      "the data type of 16.5 is: <class 'float'>\n",
      "the data type of muhammad arqum is: <class 'str'>\n",
      "the data type of true is: <class 'bool'>\n"
     ]
    }
   ],
   "source": [
    "print('the data type of 19 is:',type(19))\n",
    "print('the data type of 16.5 is:',type(16.5))\n",
    "print('the data type of muhammad arqum is:',type('muhammad arqum'))\n",
    "print('the data type of true is:',type(True))"
   ]
  },
  {
   "cell_type": "code",
   "execution_count": null,
   "id": "0bdd8138-7179-4cd3-89ca-0f9fad0cc536",
   "metadata": {},
   "outputs": [],
   "source": []
  }
 ],
 "metadata": {
  "kernelspec": {
   "display_name": "Python 3 (ipykernel)",
   "language": "python",
   "name": "python3"
  },
  "language_info": {
   "codemirror_mode": {
    "name": "ipython",
    "version": 3
   },
   "file_extension": ".py",
   "mimetype": "text/x-python",
   "name": "python",
   "nbconvert_exporter": "python",
   "pygments_lexer": "ipython3",
   "version": "3.11.1"
  }
 },
 "nbformat": 4,
 "nbformat_minor": 5
}
